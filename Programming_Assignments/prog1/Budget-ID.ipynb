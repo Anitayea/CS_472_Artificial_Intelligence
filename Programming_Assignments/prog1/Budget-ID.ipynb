{
 "cells": [
  {
   "cell_type": "code",
   "execution_count": 1,
   "id": "9448d599",
   "metadata": {},
   "outputs": [],
   "source": [
    "# read the file and save a list of target, budget, output flag and items\n",
    "def read_input(file_name):\n",
    "    with open(file_name, 'r') as file:\n",
    "        lines = file.readlines()\n",
    "    \n",
    "    target, budget, output_flag = map(str.strip, lines[0].split())\n",
    "    target, budget = int(target), int(budget)\n",
    "    items = [line.strip().split() for line in lines[1:]]\n",
    "    items = [(item[0], int(item[1]), int(item[2])) for item in items]  # (name, value, cost)\n",
    "    \n",
    "    return target, budget, output_flag, items\n"
   ]
  },
  {
   "cell_type": "code",
   "execution_count": 2,
   "id": "3e9a2285",
   "metadata": {},
   "outputs": [],
   "source": [
    "# dfs, and display the results\n",
    "def id_search(target, budget, items, output_flag):\n",
    "    depth = 1\n",
    "    solution = None\n",
    "    while solution is None and depth <= len(items):\n",
    "        solution, trace = depth_limited_search([], items, target, budget, depth, [])\n",
    "        if output_flag == 'V':\n",
    "            print(f\"Depth = {depth}.\")\n",
    "            for state in trace:\n",
    "                print(state)\n",
    "        if solution:\n",
    "            break\n",
    "        depth += 1\n",
    "    \n",
    "    if solution:\n",
    "        solution_str = ' '.join([item[0] for item in solution])\n",
    "        total_value = sum([item[1] for item in solution])\n",
    "        total_cost = sum([item[2] for item in solution])\n",
    "        if output_flag == 'V':\n",
    "            print(f\"\\nFound solution {{{solution_str}}}. Value = {total_value}. Cost = {total_cost}.\")\n",
    "        else:\n",
    "            print(f\"Found solution {{{solution_str}}}. Value = {total_value}. Cost = {total_cost}.\")\n",
    "    else:\n",
    "        print(\"No Solution\")"
   ]
  },
  {
   "cell_type": "code",
   "execution_count": 3,
   "id": "ace02d5f",
   "metadata": {},
   "outputs": [],
   "source": [
    "# iterative deepening: iteratively search for the state\n",
    "def depth_limited_search(path, items, target, budget, limit, trace, last_added_index=-1):\n",
    "    if sum(item[1] for item in path) >= target and sum(item[2] for item in path) <= budget:\n",
    "        return path, trace\n",
    "    if limit == 0 or last_added_index >= len(items) - 1:\n",
    "        return None, trace\n",
    "    \n",
    "    for index, item in enumerate(items):\n",
    "        if index <= last_added_index:\n",
    "            continue\n",
    "        new_path = path + [item]\n",
    "        new_trace = f\"{{{' '.join([x[0] for x in new_path])}}}. Value = {sum([x[1] for x in new_path])}. Cost = {sum([x[2] for x in new_path])}.\"\n",
    "        if sum([x[2] for x in new_path]) <= budget:\n",
    "            trace.append(new_trace)\n",
    "            solution, trace = depth_limited_search(new_path, items, target, budget, limit-1, trace, index)\n",
    "            if solution:\n",
    "                return solution, trace\n",
    "    \n",
    "    return None, trace\n",
    "\n"
   ]
  },
  {
   "cell_type": "code",
   "execution_count": 4,
   "id": "e94204ef",
   "metadata": {},
   "outputs": [],
   "source": [
    "def run_id(filename):\n",
    "    file_name = filename\n",
    "    target, budget, output_flag, items = read_input(file_name)\n",
    "    id_search(target, budget, items, output_flag)"
   ]
  },
  {
   "cell_type": "code",
   "execution_count": 5,
   "id": "b60f459e",
   "metadata": {},
   "outputs": [],
   "source": [
    "def main():\n",
    "    run_id('input.txt')\n",
    "    print('\\n 1:')\n",
    "    run_id('input1.txt')\n",
    "    print('\\n 2:')\n",
    "    run_id('input2.txt')\n",
    "    print('\\n 3:')\n",
    "    run_id('input3.txt')\n",
    "    print('\\n 4:')\n",
    "    run_id('input4.txt')\n",
    "    print('\\n 5:')\n",
    "    run_id('input5.txt')"
   ]
  },
  {
   "cell_type": "code",
   "execution_count": 6,
   "id": "8ef674dc",
   "metadata": {},
   "outputs": [
    {
     "name": "stdout",
     "output_type": "stream",
     "text": [
      "Depth = 1.\n",
      "{U}. Value = 10. Cost = 8.\n",
      "{V}. Value = 8. Cost = 4.\n",
      "{W}. Value = 7. Cost = 3.\n",
      "{X}. Value = 6. Cost = 3.\n",
      "{Y}. Value = 4. Cost = 1.\n",
      "Depth = 2.\n",
      "{U}. Value = 10. Cost = 8.\n",
      "{U Y}. Value = 14. Cost = 9.\n",
      "{V}. Value = 8. Cost = 4.\n",
      "{V W}. Value = 15. Cost = 7.\n",
      "{V X}. Value = 14. Cost = 7.\n",
      "{V Y}. Value = 12. Cost = 5.\n",
      "{W}. Value = 7. Cost = 3.\n",
      "{W X}. Value = 13. Cost = 6.\n",
      "{W Y}. Value = 11. Cost = 4.\n",
      "{X}. Value = 6. Cost = 3.\n",
      "{X Y}. Value = 10. Cost = 4.\n",
      "{Y}. Value = 4. Cost = 1.\n",
      "Depth = 3.\n",
      "{U}. Value = 10. Cost = 8.\n",
      "{U Y}. Value = 14. Cost = 9.\n",
      "{V}. Value = 8. Cost = 4.\n",
      "{V W}. Value = 15. Cost = 7.\n",
      "{V W X}. Value = 21. Cost = 10.\n",
      "\n",
      "Found solution {V W X}. Value = 21. Cost = 10.\n",
      "\n",
      " 1:\n",
      "Found solution {A B J}. Value = 208. Cost = 195.\n",
      "\n",
      " 2:\n",
      "Found solution {B D E}. Value = 239. Cost = 202.\n",
      "\n",
      " 3:\n",
      "No Solution\n",
      "\n",
      " 4:\n",
      "Found solution {A B D E F H J}. Value = 442. Cost = 408.\n",
      "\n",
      " 5:\n",
      "Depth = 1.\n",
      "No Solution\n"
     ]
    }
   ],
   "source": [
    "if __name__ == \"__main__\":\n",
    "    main()"
   ]
  },
  {
   "cell_type": "code",
   "execution_count": null,
   "id": "923f4473",
   "metadata": {},
   "outputs": [],
   "source": []
  }
 ],
 "metadata": {
  "kernelspec": {
   "display_name": "Python 3 (ipykernel)",
   "language": "python",
   "name": "python3"
  },
  "language_info": {
   "codemirror_mode": {
    "name": "ipython",
    "version": 3
   },
   "file_extension": ".py",
   "mimetype": "text/x-python",
   "name": "python",
   "nbconvert_exporter": "python",
   "pygments_lexer": "ipython3",
   "version": "3.9.12"
  }
 },
 "nbformat": 4,
 "nbformat_minor": 5
}
